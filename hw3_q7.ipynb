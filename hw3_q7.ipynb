{
 "cells": [
  {
   "cell_type": "code",
   "execution_count": 1,
   "metadata": {},
   "outputs": [],
   "source": [
    "import numpy as np\n",
    "import matplotlib.pyplot as plt\n",
    "import matplotlib.patches as mpatches\n",
    "import random\n",
    "from mpl_toolkits.mplot3d import Axes3D"
   ]
  },
  {
   "cell_type": "code",
   "execution_count": 2,
   "metadata": {},
   "outputs": [],
   "source": [
    "# Information about environmnet:\n",
    "# 1. given a 4X6 matrix(0 indexed) \n",
    "# 2. start position for each episode is 0,0\n",
    "# 3. terminal position for each episode is 0,5\n",
    "# 4. reward of -100 is given for transition which takes the person to first row (except start and terminal position)\n",
    "# 5. reward for all other transitions is -1\n",
    "\n"
   ]
  },
  {
   "cell_type": "code",
   "execution_count": 15,
   "metadata": {},
   "outputs": [],
   "source": [
    "# 0 is left\n",
    "# 1 is up\n",
    "# 2 is right\n",
    "# 3 is down\n",
    "epsilon=0.1\n",
    "alpha=0.9\n",
    "gamma=1\n",
    "# choose action follows epsilon-greeady\n",
    "def choose_action(current_row,current_column,q):\n",
    "    num=np.random.randint(10)\n",
    "    if(num==0):\n",
    "        return np.random.randint(4)\n",
    "    else:\n",
    "        max_state=-999999999999\n",
    "        action=-1\n",
    "        if(q[current_row,current_column,0]>max_state):\n",
    "            max_state=q[current_row,current_column,0]\n",
    "            action=0\n",
    "        if(q[current_row,current_column,1]>max_state):\n",
    "            max_state=q[current_row,current_column,1]\n",
    "            action=1\n",
    "        if(q[current_row,current_column,2]>max_state):\n",
    "            max_state=q[current_row,current_column,2]\n",
    "            action=2\n",
    "        if(q[current_row,current_column,3]>max_state):\n",
    "            max_state=q[current_row,current_column,3]\n",
    "            action=3\n",
    "        return action\n",
    "def get_state(current_row,current_column,action):\n",
    "    if(current_row==0 and current_column>=1 and current_column<=4):\n",
    "        return 0,5\n",
    "    if(action==0):\n",
    "        return current_row,max(current_column-1,0)\n",
    "    elif(action==1):\n",
    "        return max(current_row-1,0),current_column\n",
    "    elif(action==2):\n",
    "        return current_row,min(current_column+1,5)\n",
    "    elif(action==3):\n",
    "        return min(current_row+1,3),current_column\n",
    "def sarsa():\n",
    "    return_episode=np.zeros([500])\n",
    "    count_episode=np.zeros([500])\n",
    "    for j in range(200):\n",
    "        q=np.zeros([4,6,4])\n",
    "        for i in range(100):\n",
    "            r=0\n",
    "            current_row=0\n",
    "            current_column=0\n",
    "            current_action=choose_action(current_row,current_column,q)\n",
    "            while(current_row!=0 or current_column!=5):\n",
    "                next_row,next_column=get_state(current_row,current_column,current_action)            \n",
    "                next_action=choose_action(next_row,next_column,q)\n",
    "                reward=-1\n",
    "                if(next_row==0 and next_column>=1 and next_column<=4):\n",
    "                    reward=-100\n",
    "                r+=reward\n",
    "                q[current_row,current_column,current_action]=q[current_row,current_column,current_action]+alpha*(reward+q[next_row,next_column,next_action]-q[current_row,current_column,current_action])\n",
    "                current_row=next_row\n",
    "                current_column=next_column\n",
    "                current_action=next_action\n",
    "            return_episode[i]=(return_episode[i]*count_episode[i]+r)/(count_episode[i]+1);\n",
    "            count_episode[i]+=1\n",
    "    return(return_episode)\n",
    "        \n",
    "def qlearning():\n",
    "    return_episode=np.zeros([500])\n",
    "    count_episode=np.zeros([500])\n",
    "    for j in range(200):\n",
    "        q=np.zeros([4,6,4])\n",
    "        for i in range(500):\n",
    "            r=0\n",
    "            current_row=0\n",
    "            current_column=0\n",
    "            while(current_row!=0 or current_column!=5):\n",
    "    #             print(i)\n",
    "                action=choose_action(current_row,current_column,q)\n",
    "                next_row,next_column=get_state(current_row,current_column,action)            \n",
    "                reward=-1\n",
    "                if(next_row==0 and next_column>=1 and next_column<=4):\n",
    "                    reward=-100\n",
    "                r+=reward\n",
    "                max_next_state=-999999999999\n",
    "                if(q[next_row,next_column,0]>max_next_state):\n",
    "                    max_next_state=q[next_row,next_column,0]\n",
    "                if(q[next_row,next_column,1]>max_next_state):\n",
    "                    max_next_state=q[next_row,next_column,1]\n",
    "                if(q[next_row,next_column,2]>max_next_state):\n",
    "                    max_next_state=q[next_row,next_column,2]\n",
    "                if(q[next_row,next_column,3]>max_next_state):\n",
    "                    max_next_state=q[next_row,next_column,3]\n",
    "                q[current_row,current_column,action]=q[current_row,current_column,action]+alpha*(reward+max_next_state-q[current_row,current_column,action])\n",
    "                current_row=next_row\n",
    "                current_column=next_column\n",
    "            return_episode[i]=(return_episode[i]*count_episode[i]+r)/(count_episode[i]+1);\n",
    "            count_episode[i]+=1\n",
    "    return(return_episode)"
   ]
  },
  {
   "cell_type": "code",
   "execution_count": null,
   "metadata": {},
   "outputs": [],
   "source": []
  },
  {
   "cell_type": "code",
   "execution_count": 16,
   "metadata": {},
   "outputs": [
    {
     "name": "stdout",
     "output_type": "stream",
     "text": [
      "done\n"
     ]
    }
   ],
   "source": [
    "sum_rewards_sarsa=sarsa()\n",
    "sum_rewards_qlearning=qlearning()\n",
    "print(\"done\")"
   ]
  },
  {
   "cell_type": "code",
   "execution_count": 17,
   "metadata": {},
   "outputs": [
    {
     "data": {
      "image/png": "[encoded data removed]",
      "text/plain": [
       "<Figure size 432x288 with 1 Axes>"
      ]
     },
     "metadata": {
      "needs_background": "light"
     },
     "output_type": "display_data"
    }
   ],
   "source": [
    "x=list()\n",
    "s_reward=list()\n",
    "q_reward=list()\n",
    "\n",
    "for i in range(500):\n",
    "    x.append(i+1)\n",
    "    s_reward.append(sum_rewards_sarsa[i])\n",
    "    q_reward.append(sum_rewards_qlearning[i])\n",
    "plt.plot(x,s_reward,'k')\n",
    "plt.plot(x,q_reward,'y')\n",
    "yellow_patch = mpatches.Patch(color='yellow', label='qlearning')\n",
    "black_patch = mpatches.Patch(color='black', label='sarsa')\n",
    "plt.legend(handles=[yellow_patch,black_patch],loc=1)\n",
    "plt.xlabel('episodes')\n",
    "plt.ylabel('sum_reward')\n",
    "\n",
    "plt.show()"
   ]
  },
  {
   "cell_type": "code",
   "execution_count": null,
   "metadata": {},
   "outputs": [],
   "source": []
  },
  {
   "cell_type": "code",
   "execution_count": null,
   "metadata": {},
   "outputs": [],
   "source": []
  }
 ],
 "metadata": {
  "kernelspec": {
   "display_name": "Python 3",
   "language": "python",
   "name": "python3"
  },
  "language_info": {
   "codemirror_mode": {
    "name": "ipython",
    "version": 3
   },
   "file_extension": ".py",
   "mimetype": "text/x-python",
   "name": "python",
   "nbconvert_exporter": "python",
   "pygments_lexer": "ipython3",
   "version": "3.7.3"
  }
 },
 "nbformat": 4,
 "nbformat_minor": 2
}
