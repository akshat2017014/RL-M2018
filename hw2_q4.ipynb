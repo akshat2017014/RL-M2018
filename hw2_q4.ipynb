{
 "cells": [
  {
   "cell_type": "code",
   "execution_count": 41,
   "metadata": {},
   "outputs": [],
   "source": [
    "import numpy as np\n",
    "import matplotlib.pyplot as plt\n",
    "import matplotlib.patches as mpatches\n",
    "import random"
   ]
  },
  {
   "cell_type": "markdown",
   "metadata": {},
   "source": [
    "Necessary header files"
   ]
  },
  {
   "cell_type": "code",
   "execution_count": 42,
   "metadata": {},
   "outputs": [],
   "source": [
    "def policy_evaluation(v_s,pi_s,theeta,gamma):\n",
    "    counter=0\n",
    "    while(True):\n",
    "        delta=0;\n",
    "        for i in range(5):\n",
    "            for j in range(5):\n",
    "                v=v_s[i,j]\n",
    "                new_v_s=0\n",
    "                if(i==0  and j==1):\n",
    "                    new_v_s+=1*(10+gamma*v_s[4,1])\n",
    "                elif(i==0 and j==3):\n",
    "                    new_v_s+=1*(5+gamma*v_s[2,3])\n",
    "                else:\n",
    "                    if(pi_s[i,j]==0):\n",
    "                        if(i-1>=0):\n",
    "                            new_v_s+=1*(gamma*v_s[i-1,j])\n",
    "                        else:\n",
    "                            new_v_s+=1*(-1+gamma*v_s[i,j])\n",
    "                    elif(pi_s[i,j]==1):\n",
    "                        if(j+1<=4):\n",
    "                            new_v_s+=1*(gamma*v_s[i,j+1])\n",
    "                        else:\n",
    "                            new_v_s+=1*(-1+gamma*v_s[i,j])\n",
    "                    elif(pi_s[i,j]==2):\n",
    "                        if(i+1<=4):\n",
    "                            new_v_s+=1*(gamma*v_s[i+1,j])\n",
    "                        else:\n",
    "                            new_v_s+=1*(-1+gamma*v_s[i,j])\n",
    "                    elif(pi_s[i,j]==3):\n",
    "                        if(j-1>=0):\n",
    "                            new_v_s+=1*(gamma*v_s[i,j-1])\n",
    "                        else:\n",
    "                            new_v_s+=1*(-1+gamma*v_s[i,j])\n",
    "                v_s[i,j]=new_v_s\n",
    "                delta=max(delta,abs(v-new_v_s))\n",
    "        if(delta<theeta):\n",
    "            break\n",
    "\n",
    "\n",
    "    \n",
    "        "
   ]
  },
  {
   "cell_type": "code",
   "execution_count": 43,
   "metadata": {},
   "outputs": [],
   "source": [
    "def policy_improvement(v_s,pi_s,gamma):\n",
    "    policy_stable=True\n",
    "    for i in range(5):\n",
    "        for j in range(5):\n",
    "            old_action=pi_s[i,j]\n",
    "            new_policy=pi_s[i,j]\n",
    "            max=-9999999\n",
    "            if(((i!=0 or j!=1) and  (i!=0 or j!=3))):\n",
    "                temp=0\n",
    "                if(i-1>=0):\n",
    "                    temp=1*(gamma*v_s[i-1,j])\n",
    "                else:\n",
    "                    temp=1*(-1+gamma*v_s[i,j])\n",
    "                if(temp>max):\n",
    "                    max=temp\n",
    "                    new_policy=0\n",
    "                if(j+1<=4):\n",
    "                    temp=1*(gamma*v_s[i,j+1])\n",
    "                else:\n",
    "                    temp=1*(-1+gamma*v_s[i,j])\n",
    "                if(temp>max):\n",
    "                    max=temp\n",
    "                    new_policy=1       \n",
    "                if(i+1<=4):\n",
    "                    temp=1*(gamma*v_s[i+1,j])\n",
    "                else:\n",
    "                    temp=1*(-1+gamma*v_s[i,j])\n",
    "                if(temp>max):\n",
    "                    max=temp\n",
    "                    new_policy=2\n",
    "                if(j-1>=0):\n",
    "                    temp=1*(gamma*v_s[i,j-1])\n",
    "                else:\n",
    "                    temp=1*(-1+gamma*v_s[i,j])\n",
    "                if(temp>max):\n",
    "                    max=temp\n",
    "                    new_policy=3\n",
    "            pi_s[i,j]=new_policy\n",
    "            if(old_action!=new_policy):\n",
    "                policy_stable=False\n",
    "    return policy_stable"
   ]
  },
  {
   "cell_type": "code",
   "execution_count": 44,
   "metadata": {},
   "outputs": [
    {
     "name": "stdout",
     "output_type": "stream",
     "text": [
      "Value function:\n",
      "[[21.97748529 24.4194281  21.97748529 19.4194281  17.47748529]\n",
      " [19.77973676 21.97748529 19.77973676 17.80176308 16.02158677]\n",
      " [17.80176308 19.77973676 17.80176308 16.02158677 14.4194281 ]\n",
      " [16.02158677 17.80176308 16.02158677 14.4194281  12.97748529]\n",
      " [14.4194281  16.02158677 14.4194281  12.97748529 11.67973676]]\n",
      "Policy Selected:\n",
      "[[1. 0. 3. 0. 3.]\n",
      " [0. 0. 0. 3. 3.]\n",
      " [0. 0. 0. 0. 0.]\n",
      " [0. 0. 0. 0. 0.]\n",
      " [0. 0. 0. 0. 0.]]\n"
     ]
    }
   ],
   "source": [
    "v_s=np.zeros([5,5])\n",
    "pi_s=np.zeros([5,5]);\n",
    "theeta=0.000000001\n",
    "gamma=0.9\n",
    "policy_evaluation(v_s,pi_s,theeta,gamma)\n",
    "while(policy_improvement(v_s,pi_s,gamma)==False):\n",
    "    policy_evaluation(v_s,pi_s,theeta,gamma)\n",
    "\n",
    "print(\"Value function:\")\n",
    "print(v_s)\n",
    "print(\"Policy Selected:\")\n",
    "print(pi_s)"
   ]
  },
  {
   "cell_type": "markdown",
   "metadata": {},
   "source": [
    " v_s[i,j] and pi_s[i,j] represents expected reward and policy repectively, corresponding to each state."
   ]
  },
  {
   "cell_type": "markdown",
   "metadata": {},
   "source": [
    "policies:\n",
    "0->up\n",
    "1->right\n",
    "2->down\n",
    "3->left"
   ]
  },
  {
   "cell_type": "code",
   "execution_count": null,
   "metadata": {},
   "outputs": [],
   "source": []
  }
 ],
 "metadata": {
  "kernelspec": {
   "display_name": "Python 3",
   "language": "python",
   "name": "python3"
  },
  "language_info": {
   "codemirror_mode": {
    "name": "ipython",
    "version": 3
   },
   "file_extension": ".py",
   "mimetype": "text/x-python",
   "name": "python",
   "nbconvert_exporter": "python",
   "pygments_lexer": "ipython3",
   "version": "3.7.3"
  }
 },
 "nbformat": 4,
 "nbformat_minor": 2
}
