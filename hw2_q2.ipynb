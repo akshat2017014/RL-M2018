{
 "cells": [
  {
   "cell_type": "code",
   "execution_count": 1,
   "metadata": {},
   "outputs": [],
   "source": [
    "import numpy as np\n",
    "import matplotlib.pyplot as plt\n",
    "import matplotlib.patches as mpatches\n",
    "import random"
   ]
  },
  {
   "cell_type": "markdown",
   "metadata": {},
   "source": [
    "from a given state we can only go to four states with a fixed reward for each state, thus in rhs of bellman equation we will get only four terms.Let s1,s2,s3,s4 be the states we can go from s, then equation would be:\n",
    "v(s)=1/4( (sum of reward of going from s to s1,s2,s3 and s4) + (gamma)*(v(s1)+v(s2)+v(s3)+v(s4))"
   ]
  },
  {
   "cell_type": "code",
   "execution_count": 2,
   "metadata": {},
   "outputs": [
    {
     "name": "stdout",
     "output_type": "stream",
     "text": [
      "[[ 3.30899634  8.78929186  4.42761918  5.32236759  1.49217876]\n",
      " [ 1.52158807  2.99231786  2.25013995  1.9075717   0.54740271]\n",
      " [ 0.05082249  0.73817059  0.67311326  0.35818621 -0.40314114]\n",
      " [-0.9735923  -0.43549543 -0.35488227 -0.58560509 -1.18307508]\n",
      " [-1.85770055 -1.34523126 -1.22926726 -1.42291815 -1.97517905]]\n"
     ]
    }
   ],
   "source": [
    "equations=np.zeros([25,25])\n",
    "coff=np.zeros([25])\n",
    "gamma=0.9\n",
    "for i in range(5):\n",
    "    for j in range(5):\n",
    "        if(i==0 and j==1):\n",
    "            coff[5*i+j]=10\n",
    "            equations[5*i+j,1]=1\n",
    "            equations[5*i+j,21]=(-1)*(gamma)\n",
    "        elif(i==0 and j==3):\n",
    "            coff[5*i+j]=5\n",
    "            equations[5*i+j,3]=1\n",
    "            equations[5*i+j,13]=-1*(gamma)\n",
    "        else:\n",
    "            sum_reward=0;\n",
    "            equations[5*i+j,5*i+j]=4\n",
    "            if(i-1>=0):\n",
    "                equations[5*i+j,(i-1)*5+j]=(-1)*(gamma)\n",
    "            else:\n",
    "                sum_reward-=1;\n",
    "                equations[5*i+j,(i)*5+j]+=(-1)*(gamma)\n",
    "            if(i+1<=4):\n",
    "                equations[5*i+j,(i+1)*5+j]=(-1)*(gamma)\n",
    "            else:\n",
    "                sum_reward-=1;\n",
    "                equations[5*i+j,(i)*5+j]+=(-1)*(gamma)\n",
    "            if(j-1>=0):\n",
    "                equations[5*i+j,(i)*5+(j-1)]=(-1)*(gamma)\n",
    "            else:\n",
    "                sum_reward-=1;\n",
    "                equations[5*i+j,(i)*5+j]+=(-1)*(gamma)\n",
    "            if(j+1<=4):\n",
    "                equations[5*i+j,(i)*5+(j+1)]=(-1)*(gamma)\n",
    "            else:\n",
    "                sum_reward-=1;\n",
    "                equations[5*i+j,(i)*5+j]+=(-1)*(gamma)\n",
    "            coff[5*i+j]=sum_reward\n",
    "            \n",
    "# print(coff)\n",
    "# print(equations)\n",
    "ans = np.linalg.solve(equations, coff)\n",
    "ans = np.resize(ans, (5,5))\n",
    "print(ans)\n",
    "    \n",
    "        "
   ]
  },
  {
   "cell_type": "markdown",
   "metadata": {},
   "source": [
    "states are row major (state i,j=5*i+j)\n",
    "gamma=0.9"
   ]
  }
 ],
 "metadata": {
  "kernelspec": {
   "display_name": "Python 3",
   "language": "python",
   "name": "python3"
  },
  "language_info": {
   "codemirror_mode": {
    "name": "ipython",
    "version": 3
   },
   "file_extension": ".py",
   "mimetype": "text/x-python",
   "name": "python",
   "nbconvert_exporter": "python",
   "pygments_lexer": "ipython3",
   "version": "3.7.3"
  }
 },
 "nbformat": 4,
 "nbformat_minor": 2
}
